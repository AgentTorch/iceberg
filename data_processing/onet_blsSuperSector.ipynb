{
 "cells": [
  {
   "cell_type": "markdown",
   "metadata": {},
   "source": [
    "# About\n",
    "\n",
    "To map ONET-SOC code to BLS Super Sector code  (2-digit NAICS)"
   ]
  },
  {
   "cell_type": "code",
   "execution_count": 34,
   "metadata": {},
   "outputs": [],
   "source": [
    "from enum import Enum\n",
    "import instructor\n",
    "import pandas as pd\n",
    "from openai import OpenAI\n",
    "from pydantic import BaseModel, Field\n",
    "\n",
    "import numpy as np\n",
    "\n",
    "import industry_type"
   ]
  },
  {
   "cell_type": "markdown",
   "metadata": {},
   "source": [
    "### Step 1: Get all job codes (to fix missing ones)"
   ]
  },
  {
   "cell_type": "code",
   "execution_count": 35,
   "metadata": {},
   "outputs": [
    {
     "name": "stdout",
     "output_type": "stream",
     "text": [
      "Jobs from skills.csv: 879\n"
     ]
    }
   ],
   "source": [
    "skills_df = pd.read_csv('../data/ONET/Skills.csv')\n",
    "skills_df = skills_df.drop_duplicates(subset=\"O*NET-SOC Code\", keep=\"first\")\n",
    "\n",
    "skill_list_codes = []\n",
    "seen_onet_soc_codes = set()\n",
    "\n",
    "for index, row in skills_df.iterrows():\n",
    "    code = row['O*NET-SOC Code']\n",
    "    if code in seen_onet_soc_codes:\n",
    "        continue\n",
    "    seen_onet_soc_codes.add(code)\n",
    "    skill_list_codes.append({\n",
    "        'code': code,\n",
    "        'title': row['Title']\n",
    "    })\n",
    "\n",
    "print(f'Jobs from skills.csv: {len(skill_list_codes)}')"
   ]
  },
  {
   "cell_type": "code",
   "execution_count": 36,
   "metadata": {},
   "outputs": [],
   "source": [
    "national_detailed_df = pd.read_csv('../generation/national_summary_detailed.csv')\n",
    "\n",
    "more_jobs_from_national_detailed_df = national_detailed_df.drop_duplicates(subset=\"OCC_CODE\", keep=\"first\")[[\"OCC_CODE\", \"OCC_TITLE\"]]\n",
    "more_jobs_from_national_detailed_df[\"O*NET-SOC Code\"] = more_jobs_from_national_detailed_df[\"OCC_CODE\"].apply(lambda x: f\"{x}.00\")"
   ]
  },
  {
   "cell_type": "code",
   "execution_count": 37,
   "metadata": {},
   "outputs": [
    {
     "name": "stdout",
     "output_type": "stream",
     "text": [
      "Jobs from national_detailed_df: 114\n"
     ]
    }
   ],
   "source": [
    "ctr = 0\n",
    "for index, row in more_jobs_from_national_detailed_df.iterrows():\n",
    "    code = row[\"O*NET-SOC Code\"]\n",
    "    title = row[\"OCC_TITLE\"]\n",
    "\n",
    "    if code in seen_onet_soc_codes:\n",
    "        continue\n",
    "    seen_onet_soc_codes.add(code)\n",
    "    skill_list_codes.append({\n",
    "        'code': code,\n",
    "        'title': title\n",
    "    })\n",
    "    ctr += 1\n",
    "\n",
    "print(f'Jobs from national_detailed_df: {ctr}')"
   ]
  },
  {
   "cell_type": "code",
   "execution_count": 38,
   "metadata": {},
   "outputs": [
    {
     "name": "stdout",
     "output_type": "stream",
     "text": [
      "993\n"
     ]
    }
   ],
   "source": [
    "print(len(skill_list_codes))"
   ]
  },
  {
   "cell_type": "code",
   "execution_count": 6,
   "metadata": {},
   "outputs": [],
   "source": [
    "import instructor\n",
    "from anthropic import Anthropic\n",
    "from pydantic import BaseModel\n",
    "\n",
    "\n",
    "client = instructor.from_anthropic(Anthropic())"
   ]
  },
  {
   "cell_type": "code",
   "execution_count": 13,
   "metadata": {},
   "outputs": [],
   "source": [
    "system_prompt = \"\"\"\n",
    "# System Instructions  \n",
    "You are a classifier that maps O*NET job titles into one—and only one—of the following Modified BLS Super-Sector categories.  \n",
    "- If a title clearly fits one sector, choose that.  \n",
    "- If it spans multiple, pick the sector with the strongest core focus.  \n",
    "- Always return exactly the enum name (e.g. `MANUFACTURING`)\n",
    "\n",
    "---\n",
    "\n",
    "# ModifiedBLSSuperSector Definitions\n",
    "\n",
    "- **AGRICULTURE_FORESTRY_FISHING_HUNTING**  \n",
    "  Establishments primarily engaged in growing crops, raising animals, harvesting timber, and commercial fishing and hunting.\n",
    "\n",
    "- **MINING_OIL_GAS_EXTRACTION**  \n",
    "  Establishments that extract naturally occurring mineral solids, liquid minerals, and gases, including quarrying, oil and gas well operations, and related site services.\n",
    "\n",
    "- **ENERGY**\n",
    "  Establishments producing and distributing energy, including electric power generation, transmission and distribution; natural gas distribution; petroleum refining; and renewable energy operations.\n",
    "\n",
    "- **CONSTRUCTION**  \n",
    "  Establishments that build, repair, or renovate structures and engineering projects—residential, commercial, and civil—plus site preparation and specialized trades.\n",
    "\n",
    "- **MANUFACTURING**  \n",
    "  Establishments engaged in the mechanical, physical, or chemical transformation of materials, substances, or components into new products.\n",
    "\n",
    "- **RETAIL_TRADE**  \n",
    "  Establishments selling merchandise in small quantities to the general public—storefront and non-store retailers—and providing services incidental to the sale.\n",
    "\n",
    "- **PACKAGING_AND_GOODS_TRANSPORTATION**\n",
    "  Establishments providing freight transportation by air, rail, water, pipeline, and truck; warehousing and storage; packaging; and logistics support services.\n",
    "\n",
    "- **PASSENGER_TRANSPORTATION**\n",
    "  Establishments providing the movement of people by transit, ground passenger services, scenic and sightseeing transportation, and related support activities.\n",
    "\n",
    "- **TECHNOLOGY_AND_SOFTWARE_DEVELOPMENT**\n",
    "  Establishments designing, developing, and publishing software; computer systems design; data processing; and related information technology services.\n",
    "\n",
    "- **FINANCE_AND_INSURANCE**  \n",
    "  Establishments engaged in financial transactions and/or in facilitating financial transactions, including banking, credit intermediation, insurance underwriting, and related support activities.\n",
    "  Additionally, Establishments offering accounting, tax preparation, bookkeeping, payroll processing, and auditing services.\n",
    "\n",
    "- **REAL_ESTATE_RENTAL_LEASING**  \n",
    "  Establishments renting, leasing, or otherwise allowing the use of real estate, tangible assets (e.g., vehicles, equipment), and intangible assets (e.g., intellectual property).\n",
    "\n",
    "- **LEGAL_SERVICES**  \n",
    "  Establishments providing legal advice and representation in civil and criminal matters, corporate law, estate planning, and related services.\n",
    "\n",
    "- **ARCHITECTURAL_ENGINEERING_SERVICES**  \n",
    "  Establishments providing architectural, engineering, and related design services for buildings, infrastructure, and specialized projects.\n",
    "\n",
    "- **SCIENTIFIC_RESEARCH_AND_DEVELOPMENT**  \n",
    "  Establishments conducting research and experimental development in the physical, engineering, and life sciences fields.\n",
    "\n",
    "- **MANAGEMENT_CONSULTING_SERVICES**  \n",
    "  Establishments providing advice and assistance on management, strategy, organizational structure, and environmental compliance.\n",
    "\n",
    "- **MEDIA_AND_COMMUNICATIONS_SERVICES**\n",
    "  Establishments engaged in content creation and distribution—publishing, motion picture and sound recording, broadcasting, telecommunications, and internet data processing.\n",
    "  This category should also be used for jobs in marketing, advertising, and public relations.\n",
    "\n",
    "- **MANAGEMENT**  \n",
    "  Establishments holding the securities of (or other equity interests in) companies or enterprises for the purpose of owning a controlling interest, and those administering, overseeing, and managing these companies’ operations.\n",
    "  ATTENTION!! This category should be used ONLY for jobs that are top level executives. If the job is related to field specialists, they should be mapped to a specific sector. DO NOT USE THIS CATEGORY FOR FIELD SPECIALIST MANAGERS.\n",
    "  Example: CEO, CFO, CTO, CMO, etc.\n",
    "  Counter Example: Lodging Managers should NOT be mapped to this category. Instead 'Lodging Managers' should be mapped to the industry, which for this example is TRAVEL_AND_ENTERTAINMENT_SERVICES\n",
    "\n",
    "- **ADMINISTRATIVE_SUPPORT_WASTE_SERVICES**  \n",
    "  Establishments performing routine support activities such as office administration, staffing services, facilities support, security services, and waste management and remediation.\n",
    "\n",
    "- **EDUCATIONAL_SERVICES**  \n",
    "  Establishments providing instruction and training through schools, colleges, universities, and training centers, including both academic and vocational education.\n",
    "\n",
    "- **HEALTHCARE**  \n",
    "  Establishments providing health care and social assistance to individuals, including ambulatory care, hospitals, nursing and residential care, and social service agencies.\n",
    "\n",
    "- **TRAVEL_AND_ENTERTAINMENT_SERVICES**\n",
    "  Establishments offering lodging (hotels, motels), food services (restaurants, bars), and cultural (art exhibits), entertainment, and recreational activities (live performances, museums, amusement parks).\n",
    "\n",
    "- **GOVERNMENT**  \n",
    "  Establishments of federal, state, and local government agencies that administer, oversee, and manage public programs and services. Military and defence services included.\n",
    "\n",
    "- **SPECIAL_INDUSTRIES**\n",
    "  Establishments operating in niche or highly specialized markets not captured by any other sector above.\n",
    "  Example jobs: Recycling and Reclamation Workers, Hazardous Materials Removal Workers, etc.\n",
    "\n",
    "\"\"\"\n",
    "\n",
    "class BLSSuperSectorExtracted(BaseModel):\n",
    "    explanation: str = Field(description=\"A short explanation of the mapping in less than 50 tokens\")\n",
    "    bls_super_sector: industry_type.ModifiedBLSSuperSector = Field(\n",
    "        description=\"Assign (modified) BLS Super Sector as per the interpretation of the job title and ONET-SOC code: pay more to the title and should be STRICTLY one of the following\"\n",
    "    )\n",
    "\n",
    "\n",
    "def get_bls_super_sector(job_onet_soc_code, job_title) -> BLSSuperSectorExtracted:\n",
    "    query = f\"\"\"\n",
    "    Job ONET-SOC code: {job_onet_soc_code}\n",
    "    Job title: {job_title}\n",
    "    \"\"\"\n",
    "    try:\n",
    "        op: BLSSuperSectorExtracted = client.messages.create(\n",
    "            model=\"claude-sonnet-4-20250514\",\n",
    "            max_tokens=1024,\n",
    "            temperature=0.0,\n",
    "            messages=[\n",
    "                {\n",
    "                    \"role\": \"system\",\n",
    "                    \"content\": system_prompt,\n",
    "                },\n",
    "                {\n",
    "                    \"role\": \"user\",\n",
    "                    \"content\": query,\n",
    "                }\n",
    "            ],\n",
    "            response_model=BLSSuperSectorExtracted,\n",
    "        )\n",
    "        return op.bls_super_sector.value\n",
    "    except Exception as e:\n",
    "        print(f\"Error Extracting BLS Super Sector: Code: {job_onet_soc_code} Title: {job_title}\")\n",
    "        print(e)\n",
    "    return np.nan\n"
   ]
  },
  {
   "cell_type": "code",
   "execution_count": 40,
   "metadata": {},
   "outputs": [
    {
     "name": "stdout",
     "output_type": "stream",
     "text": [
      "Processed 50 items\n",
      "Processed 100 items\n"
     ]
    }
   ],
   "source": [
    "new_df_data = []\n",
    "count = 0\n",
    "for item in skill_list_codes[879:]:\n",
    "    bls_super_sector = \"\"\n",
    "    code = item['code']\n",
    "    title = item['title']\n",
    "    try:\n",
    "        bls_super_sector = get_bls_super_sector(code, title)\n",
    "    except Exception as e:\n",
    "        print(f\"Error Extracting BLS Super Sector: Code: {code} Title: {title}\")\n",
    " \n",
    "\n",
    "    new_df_data.append(\n",
    "    {'O*NET-SOC Code': code, 'Title': title, 'Modified BLS Super Sector': bls_super_sector}\n",
    "    )\n",
    "    count += 1\n",
    "\n",
    "    if count % 50 == 0:\n",
    "        print(f\"Processed {count} items\")\n",
    "\n"
   ]
  },
  {
   "cell_type": "code",
   "execution_count": 41,
   "metadata": {},
   "outputs": [],
   "source": [
    "new_df_1 = pd.DataFrame(new_df_data)"
   ]
  },
  {
   "cell_type": "code",
   "execution_count": 42,
   "metadata": {},
   "outputs": [
    {
     "data": {
      "text/html": [
       "<div>\n",
       "<style scoped>\n",
       "    .dataframe tbody tr th:only-of-type {\n",
       "        vertical-align: middle;\n",
       "    }\n",
       "\n",
       "    .dataframe tbody tr th {\n",
       "        vertical-align: top;\n",
       "    }\n",
       "\n",
       "    .dataframe thead th {\n",
       "        text-align: right;\n",
       "    }\n",
       "</style>\n",
       "<table border=\"1\" class=\"dataframe\">\n",
       "  <thead>\n",
       "    <tr style=\"text-align: right;\">\n",
       "      <th></th>\n",
       "      <th>O*NET-SOC Code</th>\n",
       "      <th>Title</th>\n",
       "      <th>Modified BLS Super Sector</th>\n",
       "    </tr>\n",
       "  </thead>\n",
       "  <tbody>\n",
       "    <tr>\n",
       "      <th>0</th>\n",
       "      <td>11-1031.00</td>\n",
       "      <td>Legislators</td>\n",
       "      <td>GOVERNMENT</td>\n",
       "    </tr>\n",
       "    <tr>\n",
       "      <th>1</th>\n",
       "      <td>11-2032.00</td>\n",
       "      <td>Public Relations Managers</td>\n",
       "      <td>MEDIA_AND_COMMUNICATIONS_SERVICES</td>\n",
       "    </tr>\n",
       "    <tr>\n",
       "      <th>2</th>\n",
       "      <td>11-2033.00</td>\n",
       "      <td>Fundraising Managers</td>\n",
       "      <td>MANAGEMENT_CONSULTING_SERVICES</td>\n",
       "    </tr>\n",
       "    <tr>\n",
       "      <th>3</th>\n",
       "      <td>11-9039.00</td>\n",
       "      <td>Education Administrators, All Other</td>\n",
       "      <td>EDUCATIONAL_SERVICES</td>\n",
       "    </tr>\n",
       "    <tr>\n",
       "      <th>4</th>\n",
       "      <td>11-9072.00</td>\n",
       "      <td>Entertainment and Recreation Managers, Except ...</td>\n",
       "      <td>TRAVEL_AND_ENTERTAINMENT_SERVICES</td>\n",
       "    </tr>\n",
       "    <tr>\n",
       "      <th>5</th>\n",
       "      <td>11-9199.00</td>\n",
       "      <td>Managers, All Other</td>\n",
       "      <td>MANAGEMENT</td>\n",
       "    </tr>\n",
       "    <tr>\n",
       "      <th>6</th>\n",
       "      <td>13-1020.00</td>\n",
       "      <td>Buyers and Purchasing Agents</td>\n",
       "      <td>ADMINISTRATIVE_SUPPORT_WASTE_SERVICES</td>\n",
       "    </tr>\n",
       "    <tr>\n",
       "      <th>7</th>\n",
       "      <td>13-1082.00</td>\n",
       "      <td>Project Management Specialists</td>\n",
       "      <td>MANAGEMENT_CONSULTING_SERVICES</td>\n",
       "    </tr>\n",
       "    <tr>\n",
       "      <th>8</th>\n",
       "      <td>13-1199.00</td>\n",
       "      <td>Business Operations Specialists, All Other</td>\n",
       "      <td>MANAGEMENT_CONSULTING_SERVICES</td>\n",
       "    </tr>\n",
       "    <tr>\n",
       "      <th>9</th>\n",
       "      <td>13-2020.00</td>\n",
       "      <td>Property Appraisers and Assessors</td>\n",
       "      <td>REAL_ESTATE_RENTAL_LEASING</td>\n",
       "    </tr>\n",
       "    <tr>\n",
       "      <th>10</th>\n",
       "      <td>13-2051.00</td>\n",
       "      <td>Financial and Investment Analysts</td>\n",
       "      <td>FINANCE_AND_INSURANCE</td>\n",
       "    </tr>\n",
       "    <tr>\n",
       "      <th>11</th>\n",
       "      <td>13-2054.00</td>\n",
       "      <td>Financial Risk Specialists</td>\n",
       "      <td>FINANCE_AND_INSURANCE</td>\n",
       "    </tr>\n",
       "    <tr>\n",
       "      <th>12</th>\n",
       "      <td>13-2099.00</td>\n",
       "      <td>Financial Specialists, All Other</td>\n",
       "      <td>FINANCE_AND_INSURANCE</td>\n",
       "    </tr>\n",
       "    <tr>\n",
       "      <th>13</th>\n",
       "      <td>15-1252.00</td>\n",
       "      <td>Software Developers</td>\n",
       "      <td>TECHNOLOGY_AND_SOFTWARE_DEVELOPMENT</td>\n",
       "    </tr>\n",
       "    <tr>\n",
       "      <th>14</th>\n",
       "      <td>15-1255.00</td>\n",
       "      <td>Web and Digital Interface Designers</td>\n",
       "      <td>TECHNOLOGY_AND_SOFTWARE_DEVELOPMENT</td>\n",
       "    </tr>\n",
       "    <tr>\n",
       "      <th>15</th>\n",
       "      <td>15-1299.00</td>\n",
       "      <td>Computer Occupations, All Other</td>\n",
       "      <td>TECHNOLOGY_AND_SOFTWARE_DEVELOPMENT</td>\n",
       "    </tr>\n",
       "    <tr>\n",
       "      <th>16</th>\n",
       "      <td>15-2051.00</td>\n",
       "      <td>Data Scientists</td>\n",
       "      <td>TECHNOLOGY_AND_SOFTWARE_DEVELOPMENT</td>\n",
       "    </tr>\n",
       "    <tr>\n",
       "      <th>17</th>\n",
       "      <td>15-2099.00</td>\n",
       "      <td>Mathematical Science Occupations, All Other</td>\n",
       "      <td>SCIENTIFIC_RESEARCH_AND_DEVELOPMENT</td>\n",
       "    </tr>\n",
       "    <tr>\n",
       "      <th>18</th>\n",
       "      <td>17-2199.00</td>\n",
       "      <td>Engineers, All Other</td>\n",
       "      <td>ARCHITECTURAL_ENGINEERING_SERVICES</td>\n",
       "    </tr>\n",
       "    <tr>\n",
       "      <th>19</th>\n",
       "      <td>17-3029.00</td>\n",
       "      <td>Engineering Technologists and Technicians, Exc...</td>\n",
       "      <td>ARCHITECTURAL_ENGINEERING_SERVICES</td>\n",
       "    </tr>\n",
       "  </tbody>\n",
       "</table>\n",
       "</div>"
      ],
      "text/plain": [
       "   O*NET-SOC Code                                              Title  \\\n",
       "0      11-1031.00                                        Legislators   \n",
       "1      11-2032.00                          Public Relations Managers   \n",
       "2      11-2033.00                               Fundraising Managers   \n",
       "3      11-9039.00                Education Administrators, All Other   \n",
       "4      11-9072.00  Entertainment and Recreation Managers, Except ...   \n",
       "5      11-9199.00                                Managers, All Other   \n",
       "6      13-1020.00                       Buyers and Purchasing Agents   \n",
       "7      13-1082.00                     Project Management Specialists   \n",
       "8      13-1199.00         Business Operations Specialists, All Other   \n",
       "9      13-2020.00                  Property Appraisers and Assessors   \n",
       "10     13-2051.00                  Financial and Investment Analysts   \n",
       "11     13-2054.00                         Financial Risk Specialists   \n",
       "12     13-2099.00                   Financial Specialists, All Other   \n",
       "13     15-1252.00                                Software Developers   \n",
       "14     15-1255.00                Web and Digital Interface Designers   \n",
       "15     15-1299.00                    Computer Occupations, All Other   \n",
       "16     15-2051.00                                    Data Scientists   \n",
       "17     15-2099.00        Mathematical Science Occupations, All Other   \n",
       "18     17-2199.00                               Engineers, All Other   \n",
       "19     17-3029.00  Engineering Technologists and Technicians, Exc...   \n",
       "\n",
       "                Modified BLS Super Sector  \n",
       "0                              GOVERNMENT  \n",
       "1       MEDIA_AND_COMMUNICATIONS_SERVICES  \n",
       "2          MANAGEMENT_CONSULTING_SERVICES  \n",
       "3                    EDUCATIONAL_SERVICES  \n",
       "4       TRAVEL_AND_ENTERTAINMENT_SERVICES  \n",
       "5                              MANAGEMENT  \n",
       "6   ADMINISTRATIVE_SUPPORT_WASTE_SERVICES  \n",
       "7          MANAGEMENT_CONSULTING_SERVICES  \n",
       "8          MANAGEMENT_CONSULTING_SERVICES  \n",
       "9              REAL_ESTATE_RENTAL_LEASING  \n",
       "10                  FINANCE_AND_INSURANCE  \n",
       "11                  FINANCE_AND_INSURANCE  \n",
       "12                  FINANCE_AND_INSURANCE  \n",
       "13    TECHNOLOGY_AND_SOFTWARE_DEVELOPMENT  \n",
       "14    TECHNOLOGY_AND_SOFTWARE_DEVELOPMENT  \n",
       "15    TECHNOLOGY_AND_SOFTWARE_DEVELOPMENT  \n",
       "16    TECHNOLOGY_AND_SOFTWARE_DEVELOPMENT  \n",
       "17    SCIENTIFIC_RESEARCH_AND_DEVELOPMENT  \n",
       "18     ARCHITECTURAL_ENGINEERING_SERVICES  \n",
       "19     ARCHITECTURAL_ENGINEERING_SERVICES  "
      ]
     },
     "execution_count": 42,
     "metadata": {},
     "output_type": "execute_result"
    }
   ],
   "source": [
    "new_df_1.head(20)"
   ]
  },
  {
   "cell_type": "code",
   "execution_count": 43,
   "metadata": {},
   "outputs": [],
   "source": [
    "data_df = pd.concat([new_df, new_df_1])"
   ]
  },
  {
   "cell_type": "code",
   "execution_count": 44,
   "metadata": {},
   "outputs": [
    {
     "data": {
      "text/plain": [
       "(993, 3)"
      ]
     },
     "execution_count": 44,
     "metadata": {},
     "output_type": "execute_result"
    }
   ],
   "source": [
    "data_df.shape"
   ]
  },
  {
   "cell_type": "code",
   "execution_count": 45,
   "metadata": {},
   "outputs": [
    {
     "data": {
      "text/plain": [
       "(114, 3)"
      ]
     },
     "execution_count": 45,
     "metadata": {},
     "output_type": "execute_result"
    }
   ],
   "source": [
    "new_df_1.shape"
   ]
  },
  {
   "cell_type": "code",
   "execution_count": 46,
   "metadata": {},
   "outputs": [],
   "source": [
    "data_df.to_csv('../v2_assets/modified_bls_super_sector_df.csv', index=False)"
   ]
  },
  {
   "cell_type": "code",
   "execution_count": null,
   "metadata": {},
   "outputs": [],
   "source": []
  }
 ],
 "metadata": {
  "kernelspec": {
   "display_name": "iceberg",
   "language": "python",
   "name": "python3"
  },
  "language_info": {
   "codemirror_mode": {
    "name": "ipython",
    "version": 3
   },
   "file_extension": ".py",
   "mimetype": "text/x-python",
   "name": "python",
   "nbconvert_exporter": "python",
   "pygments_lexer": "ipython3",
   "version": "3.10.16"
  }
 },
 "nbformat": 4,
 "nbformat_minor": 2
}
