{
 "cells": [
  {
   "cell_type": "markdown",
   "metadata": {},
   "source": [
    "# About\n",
    "\n",
    "To map ONET-SOC code to BLS Super Sector code  (2-digit NAICS)"
   ]
  },
  {
   "cell_type": "code",
   "execution_count": 81,
   "metadata": {},
   "outputs": [],
   "source": [
    "from enum import Enum\n",
    "import instructor\n",
    "import pandas as pd\n",
    "from openai import OpenAI\n",
    "from pydantic import BaseModel, Field\n",
    "\n",
    "import numpy as np\n",
    "\n",
    "import industry_type"
   ]
  },
  {
   "cell_type": "code",
   "execution_count": 45,
   "metadata": {},
   "outputs": [],
   "source": [
    "skills_df = pd.read_csv('Skills.csv')\n",
    "skills_df = skills_df.drop_duplicates(subset=\"O*NET-SOC Code\", keep=\"first\")\n",
    "\n",
    "skill_list_codes = []\n",
    "\n",
    "for index, row in skills_df.iterrows():\n",
    "    skill_list_codes.append({\n",
    "        'code': row['O*NET-SOC Code'],\n",
    "        'title': row['Title']\n",
    "    })"
   ]
  },
  {
   "cell_type": "code",
   "execution_count": 83,
   "metadata": {},
   "outputs": [],
   "source": [
    "client = instructor.from_openai(OpenAI())\n",
    "\n",
    "system_prompt = \"\"\"\n",
    "You are a helpful assistant that can help with mapping ONET-SOC code to BLS Super Sector code.\n",
    "Please use your knowledge of the BLS Super Sector code to help with the mapping.\n",
    "This is being done for jobs in the US. Use your best judgement to map the job to the correct BLS Super Sector code.\n",
    "\"\"\"\n",
    "\n",
    "class BLSSuperSectorExtracted(BaseModel):\n",
    "    explanation: str = Field(description=\"A short explanation of the mapping less than 50 tokens\")\n",
    "    bls_super_sector: industry_type.BLSSuperSector = Field(\n",
    "        description=\"Assigned (modified) BLS Super Sector as per the interpretation of the job title and ONET-SOC code: pay more to the title and should be STRICTLY one of the following\"\n",
    "    )\n",
    "\n",
    "\n",
    "def get_bls_super_sector(job_onet_soc_code, job_title) -> BLSSuperSectorExtracted:\n",
    "    query = f\"\"\"\n",
    "    Job ONET-SOC code: {job_onet_soc_code}\n",
    "    Job title: {job_title}\n",
    "    \"\"\"\n",
    "    try:\n",
    "        op: BLSSuperSectorExtracted = client.chat.completions.create(\n",
    "                messages=[\n",
    "                {\n",
    "                    \"role\": \"system\",\n",
    "                    \"content\": system_prompt,\n",
    "                },\n",
    "                {\"role\": \"user\", \"content\": query},\n",
    "            ],\n",
    "            model=\"gpt-4.1-nano\",\n",
    "            response_model=BLSSuperSectorExtracted,\n",
    "        )\n",
    "        return op.bls_super_sector.value\n",
    "    except Exception as e:\n",
    "        print(f\"Error Extracting BLS Super Sector: Code: {job_onet_soc_code} Title: {job_title}\")\n",
    "    return np.nan\n"
   ]
  },
  {
   "cell_type": "code",
   "execution_count": 92,
   "metadata": {},
   "outputs": [
    {
     "name": "stdout",
     "output_type": "stream",
     "text": [
      "Processed 50 rows\n",
      "Processed 100 rows\n",
      "Processed 150 rows\n",
      "Processed 200 rows\n",
      "Processed 250 rows\n",
      "Processed 300 rows\n",
      "Processed 350 rows\n",
      "Processed 400 rows\n",
      "Processed 450 rows\n",
      "Processed 500 rows\n",
      "Processed 550 rows\n",
      "Processed 600 rows\n",
      "Processed 650 rows\n",
      "Processed 700 rows\n",
      "Processed 750 rows\n",
      "Processed 800 rows\n",
      "Processed 850 rows\n"
     ]
    }
   ],
   "source": [
    "new_df_data = []\n",
    "count = 0\n",
    "for index, row in skills_df.iterrows():\n",
    "    bls_super_sector = \"\"\n",
    "    try:\n",
    "        bls_super_sector = get_bls_super_sector(row['O*NET-SOC Code'], row['Title'])\n",
    "    except Exception as e:\n",
    "        print(f\"Error Extracting BLS Super Sector: Code: {row['O*NET-SOC Code']} Title: {row['Title']}\")\n",
    "    \n",
    "\n",
    "    new_df_data.append(\n",
    "        {'O*NET-SOC Code': row['O*NET-SOC Code'], 'Title': row['Title'], 'Modified BLS Super Sector': bls_super_sector}\n",
    "    )\n",
    "    count += 1\n",
    "\n",
    "    if count % 50 == 0:\n",
    "        print(f\"Processed {count} rows\")\n",
    "\n",
    "new_df = pd.DataFrame(new_df_data)\n",
    "new_df.to_csv('modified_bls_super_sector_df.csv', index=False)"
   ]
  },
  {
   "cell_type": "code",
   "execution_count": 93,
   "metadata": {},
   "outputs": [],
   "source": [
    "new_df.to_csv('modified_bls_super_sector_df.csv', index=False)"
   ]
  },
  {
   "cell_type": "code",
   "execution_count": null,
   "metadata": {},
   "outputs": [],
   "source": []
  }
 ],
 "metadata": {
  "kernelspec": {
   "display_name": "iceberg",
   "language": "python",
   "name": "python3"
  },
  "language_info": {
   "codemirror_mode": {
    "name": "ipython",
    "version": 3
   },
   "file_extension": ".py",
   "mimetype": "text/x-python",
   "name": "python",
   "nbconvert_exporter": "python",
   "pygments_lexer": "ipython3",
   "version": "3.10.16"
  }
 },
 "nbformat": 4,
 "nbformat_minor": 2
}
