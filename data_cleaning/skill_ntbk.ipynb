{
 "cells": [
  {
   "cell_type": "markdown",
   "metadata": {},
   "source": [
    "# About\n",
    "\n",
    "This notebook converts Skills.xlsx into Skills.csv"
   ]
  },
  {
   "cell_type": "code",
   "execution_count": 1,
   "metadata": {},
   "outputs": [],
   "source": [
    "import pandas as pd"
   ]
  },
  {
   "cell_type": "code",
   "execution_count": 4,
   "metadata": {},
   "outputs": [],
   "source": [
    "skills_df = pd.read_excel('../data/ONET/Skills.xlsx')"
   ]
  },
  {
   "cell_type": "code",
   "execution_count": 5,
   "metadata": {},
   "outputs": [
    {
     "data": {
      "text/html": [
       "<div>\n",
       "<style scoped>\n",
       "    .dataframe tbody tr th:only-of-type {\n",
       "        vertical-align: middle;\n",
       "    }\n",
       "\n",
       "    .dataframe tbody tr th {\n",
       "        vertical-align: top;\n",
       "    }\n",
       "\n",
       "    .dataframe thead th {\n",
       "        text-align: right;\n",
       "    }\n",
       "</style>\n",
       "<table border=\"1\" class=\"dataframe\">\n",
       "  <thead>\n",
       "    <tr style=\"text-align: right;\">\n",
       "      <th></th>\n",
       "      <th>O*NET-SOC Code</th>\n",
       "      <th>Title</th>\n",
       "      <th>Element ID</th>\n",
       "      <th>Element Name</th>\n",
       "      <th>Scale ID</th>\n",
       "      <th>Scale Name</th>\n",
       "      <th>Data Value</th>\n",
       "      <th>N</th>\n",
       "      <th>Standard Error</th>\n",
       "      <th>Lower CI Bound</th>\n",
       "      <th>Upper CI Bound</th>\n",
       "      <th>Recommend Suppress</th>\n",
       "      <th>Not Relevant</th>\n",
       "      <th>Date</th>\n",
       "      <th>Domain Source</th>\n",
       "    </tr>\n",
       "  </thead>\n",
       "  <tbody>\n",
       "    <tr>\n",
       "      <th>0</th>\n",
       "      <td>11-1011.00</td>\n",
       "      <td>Chief Executives</td>\n",
       "      <td>2.A.1.a</td>\n",
       "      <td>Reading Comprehension</td>\n",
       "      <td>IM</td>\n",
       "      <td>Importance</td>\n",
       "      <td>4.12</td>\n",
       "      <td>8</td>\n",
       "      <td>0.1250</td>\n",
       "      <td>3.8800</td>\n",
       "      <td>4.3700</td>\n",
       "      <td>N</td>\n",
       "      <td>NaN</td>\n",
       "      <td>08/2023</td>\n",
       "      <td>Analyst</td>\n",
       "    </tr>\n",
       "    <tr>\n",
       "      <th>1</th>\n",
       "      <td>11-1011.00</td>\n",
       "      <td>Chief Executives</td>\n",
       "      <td>2.A.1.a</td>\n",
       "      <td>Reading Comprehension</td>\n",
       "      <td>LV</td>\n",
       "      <td>Level</td>\n",
       "      <td>4.62</td>\n",
       "      <td>8</td>\n",
       "      <td>0.1830</td>\n",
       "      <td>4.2664</td>\n",
       "      <td>4.9836</td>\n",
       "      <td>N</td>\n",
       "      <td>N</td>\n",
       "      <td>08/2023</td>\n",
       "      <td>Analyst</td>\n",
       "    </tr>\n",
       "    <tr>\n",
       "      <th>2</th>\n",
       "      <td>11-1011.00</td>\n",
       "      <td>Chief Executives</td>\n",
       "      <td>2.A.1.b</td>\n",
       "      <td>Active Listening</td>\n",
       "      <td>IM</td>\n",
       "      <td>Importance</td>\n",
       "      <td>4.00</td>\n",
       "      <td>8</td>\n",
       "      <td>0.0000</td>\n",
       "      <td>4.0000</td>\n",
       "      <td>4.0000</td>\n",
       "      <td>N</td>\n",
       "      <td>NaN</td>\n",
       "      <td>08/2023</td>\n",
       "      <td>Analyst</td>\n",
       "    </tr>\n",
       "    <tr>\n",
       "      <th>3</th>\n",
       "      <td>11-1011.00</td>\n",
       "      <td>Chief Executives</td>\n",
       "      <td>2.A.1.b</td>\n",
       "      <td>Active Listening</td>\n",
       "      <td>LV</td>\n",
       "      <td>Level</td>\n",
       "      <td>4.75</td>\n",
       "      <td>8</td>\n",
       "      <td>0.1637</td>\n",
       "      <td>4.4292</td>\n",
       "      <td>5.0708</td>\n",
       "      <td>N</td>\n",
       "      <td>N</td>\n",
       "      <td>08/2023</td>\n",
       "      <td>Analyst</td>\n",
       "    </tr>\n",
       "    <tr>\n",
       "      <th>4</th>\n",
       "      <td>11-1011.00</td>\n",
       "      <td>Chief Executives</td>\n",
       "      <td>2.A.1.c</td>\n",
       "      <td>Writing</td>\n",
       "      <td>IM</td>\n",
       "      <td>Importance</td>\n",
       "      <td>4.12</td>\n",
       "      <td>8</td>\n",
       "      <td>0.1250</td>\n",
       "      <td>3.8800</td>\n",
       "      <td>4.3700</td>\n",
       "      <td>N</td>\n",
       "      <td>NaN</td>\n",
       "      <td>08/2023</td>\n",
       "      <td>Analyst</td>\n",
       "    </tr>\n",
       "  </tbody>\n",
       "</table>\n",
       "</div>"
      ],
      "text/plain": [
       "  O*NET-SOC Code             Title Element ID           Element Name Scale ID  \\\n",
       "0     11-1011.00  Chief Executives    2.A.1.a  Reading Comprehension       IM   \n",
       "1     11-1011.00  Chief Executives    2.A.1.a  Reading Comprehension       LV   \n",
       "2     11-1011.00  Chief Executives    2.A.1.b       Active Listening       IM   \n",
       "3     11-1011.00  Chief Executives    2.A.1.b       Active Listening       LV   \n",
       "4     11-1011.00  Chief Executives    2.A.1.c                Writing       IM   \n",
       "\n",
       "   Scale Name  Data Value  N  Standard Error  Lower CI Bound  Upper CI Bound  \\\n",
       "0  Importance        4.12  8          0.1250          3.8800          4.3700   \n",
       "1       Level        4.62  8          0.1830          4.2664          4.9836   \n",
       "2  Importance        4.00  8          0.0000          4.0000          4.0000   \n",
       "3       Level        4.75  8          0.1637          4.4292          5.0708   \n",
       "4  Importance        4.12  8          0.1250          3.8800          4.3700   \n",
       "\n",
       "  Recommend Suppress Not Relevant     Date Domain Source  \n",
       "0                  N          NaN  08/2023       Analyst  \n",
       "1                  N            N  08/2023       Analyst  \n",
       "2                  N          NaN  08/2023       Analyst  \n",
       "3                  N            N  08/2023       Analyst  \n",
       "4                  N          NaN  08/2023       Analyst  "
      ]
     },
     "execution_count": 5,
     "metadata": {},
     "output_type": "execute_result"
    }
   ],
   "source": [
    "skills_df.head()"
   ]
  },
  {
   "cell_type": "code",
   "execution_count": 6,
   "metadata": {},
   "outputs": [],
   "source": [
    "skills_df.to_csv('Skills.csv', index=False)"
   ]
  },
  {
   "cell_type": "code",
   "execution_count": 7,
   "metadata": {},
   "outputs": [],
   "source": [
    "# Update SOC_Code column based on the condition\n",
    "skills_df['SOC_Code'] = skills_df['O*NET-SOC Code'].apply(lambda x: x.split('.')[0] if '.' in x else x)"
   ]
  },
  {
   "cell_type": "code",
   "execution_count": 8,
   "metadata": {},
   "outputs": [
    {
     "name": "stdout",
     "output_type": "stream",
     "text": [
      "unique count of Element Name: 35\n",
      "unique values of Element Name: ['Reading Comprehension' 'Active Listening' 'Writing' 'Speaking'\n",
      " 'Mathematics' 'Science' 'Critical Thinking' 'Active Learning'\n",
      " 'Learning Strategies' 'Monitoring' 'Social Perceptiveness' 'Coordination'\n",
      " 'Persuasion' 'Negotiation' 'Instructing' 'Service Orientation'\n",
      " 'Complex Problem Solving' 'Operations Analysis' 'Technology Design'\n",
      " 'Equipment Selection' 'Installation' 'Programming'\n",
      " 'Operations Monitoring' 'Operation and Control' 'Equipment Maintenance'\n",
      " 'Troubleshooting' 'Repairing' 'Quality Control Analysis'\n",
      " 'Judgment and Decision Making' 'Systems Analysis' 'Systems Evaluation'\n",
      " 'Time Management' 'Management of Financial Resources'\n",
      " 'Management of Material Resources' 'Management of Personnel Resources']\n"
     ]
    }
   ],
   "source": [
    "# print unique values of Element Name\n",
    "print(f\"unique count of Element Name: {len(skills_df['Element Name'].unique())}\")\n",
    "print(f\"unique values of Element Name: {skills_df['Element Name'].unique()}\")\n"
   ]
  },
  {
   "cell_type": "code",
   "execution_count": 9,
   "metadata": {},
   "outputs": [
    {
     "name": "stdout",
     "output_type": "stream",
     "text": [
      "unique count of O*NET-SOC Code: 879\n"
     ]
    }
   ],
   "source": [
    "print(f\"unique count of O*NET-SOC Code: {len(skills_df['O*NET-SOC Code'].unique())}\")"
   ]
  },
  {
   "cell_type": "code",
   "execution_count": 11,
   "metadata": {},
   "outputs": [
    {
     "name": "stdout",
     "output_type": "stream",
     "text": [
      "unique count of SOC code without .specification: 763\n"
     ]
    }
   ],
   "source": [
    "print(f\"unique count of SOC code without .specification: {len(skills_df['SOC_Code'].unique())}\")"
   ]
  },
  {
   "cell_type": "code",
   "execution_count": 15,
   "metadata": {},
   "outputs": [
    {
     "name": "stdout",
     "output_type": "stream",
     "text": [
      "\n",
      "Columns in the DataFrame:\n",
      "['SOC Code', 'detailed_title', 'major_code', 'major_title', 'minor_code', 'minor_title', 'broad_code', 'broad_title']\n"
     ]
    }
   ],
   "source": [
    "import json\n",
    "\n",
    "# Read the SOC mapping JSON file\n",
    "with open('../data/soc_mapping.json', 'r') as f:\n",
    "    soc_mapping = json.load(f)\n",
    "\n",
    "df = pd.DataFrame.from_dict(soc_mapping, orient='index')\n",
    "\n",
    "# Reset index to make the SOC codes a column\n",
    "df = df.reset_index()\n",
    "df = df.rename(columns={'index': 'SOC Code'})\n",
    "\n",
    "print(\"\\nColumns in the DataFrame:\")\n",
    "print(df.columns.tolist())"
   ]
  },
  {
   "cell_type": "code",
   "execution_count": 23,
   "metadata": {},
   "outputs": [],
   "source": [
    "# First remove the hyphen, then take the appropriate number of digits\n",
    "df['normalized_SOC_Code'] = df['SOC Code'].str.replace('-', '')\n",
    "df['normalized_major_code'] = df['SOC Code'].str.replace('-', '').str[:2]\n",
    "df['normalized_minor_code'] = df['SOC Code'].str.replace('-', '').str[:3]\n",
    "df['normalized_broad_code'] = df['SOC Code'].str.replace('-', '').str[:4]"
   ]
  },
  {
   "cell_type": "code",
   "execution_count": 24,
   "metadata": {},
   "outputs": [
    {
     "data": {
      "text/html": [
       "<div>\n",
       "<style scoped>\n",
       "    .dataframe tbody tr th:only-of-type {\n",
       "        vertical-align: middle;\n",
       "    }\n",
       "\n",
       "    .dataframe tbody tr th {\n",
       "        vertical-align: top;\n",
       "    }\n",
       "\n",
       "    .dataframe thead th {\n",
       "        text-align: right;\n",
       "    }\n",
       "</style>\n",
       "<table border=\"1\" class=\"dataframe\">\n",
       "  <thead>\n",
       "    <tr style=\"text-align: right;\">\n",
       "      <th></th>\n",
       "      <th>SOC Code</th>\n",
       "      <th>detailed_title</th>\n",
       "      <th>major_code</th>\n",
       "      <th>major_title</th>\n",
       "      <th>minor_code</th>\n",
       "      <th>minor_title</th>\n",
       "      <th>broad_code</th>\n",
       "      <th>broad_title</th>\n",
       "      <th>normalized_SOC_Code</th>\n",
       "      <th>normalized_major_code</th>\n",
       "      <th>normalized_minor_code</th>\n",
       "      <th>normalized_broad_code</th>\n",
       "    </tr>\n",
       "  </thead>\n",
       "  <tbody>\n",
       "    <tr>\n",
       "      <th>0</th>\n",
       "      <td>11-1011</td>\n",
       "      <td>Chief Executives</td>\n",
       "      <td>11-0000</td>\n",
       "      <td>Management Occupations</td>\n",
       "      <td>11-1000</td>\n",
       "      <td>Top Executives</td>\n",
       "      <td>11-1010</td>\n",
       "      <td>Chief Executives</td>\n",
       "      <td>111011</td>\n",
       "      <td>11</td>\n",
       "      <td>111</td>\n",
       "      <td>1110</td>\n",
       "    </tr>\n",
       "    <tr>\n",
       "      <th>1</th>\n",
       "      <td>11-1021</td>\n",
       "      <td>General and Operations Managers</td>\n",
       "      <td>11-0000</td>\n",
       "      <td>Management Occupations</td>\n",
       "      <td>11-1000</td>\n",
       "      <td>Top Executives</td>\n",
       "      <td>11-1020</td>\n",
       "      <td>General and Operations Managers</td>\n",
       "      <td>111021</td>\n",
       "      <td>11</td>\n",
       "      <td>111</td>\n",
       "      <td>1110</td>\n",
       "    </tr>\n",
       "    <tr>\n",
       "      <th>2</th>\n",
       "      <td>11-1031</td>\n",
       "      <td>Legislators</td>\n",
       "      <td>11-0000</td>\n",
       "      <td>Management Occupations</td>\n",
       "      <td>11-1000</td>\n",
       "      <td>Top Executives</td>\n",
       "      <td>11-1030</td>\n",
       "      <td>Legislators</td>\n",
       "      <td>111031</td>\n",
       "      <td>11</td>\n",
       "      <td>111</td>\n",
       "      <td>1110</td>\n",
       "    </tr>\n",
       "    <tr>\n",
       "      <th>3</th>\n",
       "      <td>11-2011</td>\n",
       "      <td>Advertising and Promotions Managers</td>\n",
       "      <td>11-0000</td>\n",
       "      <td>Management Occupations</td>\n",
       "      <td>11-2000</td>\n",
       "      <td>Advertising, Marketing, Promotions, Public Rel...</td>\n",
       "      <td>11-2010</td>\n",
       "      <td>Advertising and Promotions Managers</td>\n",
       "      <td>112011</td>\n",
       "      <td>11</td>\n",
       "      <td>112</td>\n",
       "      <td>1120</td>\n",
       "    </tr>\n",
       "    <tr>\n",
       "      <th>4</th>\n",
       "      <td>11-2021</td>\n",
       "      <td>Marketing Managers</td>\n",
       "      <td>11-0000</td>\n",
       "      <td>Management Occupations</td>\n",
       "      <td>11-2000</td>\n",
       "      <td>Advertising, Marketing, Promotions, Public Rel...</td>\n",
       "      <td>11-2020</td>\n",
       "      <td>Marketing and Sales Managers</td>\n",
       "      <td>112021</td>\n",
       "      <td>11</td>\n",
       "      <td>112</td>\n",
       "      <td>1120</td>\n",
       "    </tr>\n",
       "  </tbody>\n",
       "</table>\n",
       "</div>"
      ],
      "text/plain": [
       "  SOC Code                       detailed_title major_code  \\\n",
       "0  11-1011                     Chief Executives    11-0000   \n",
       "1  11-1021      General and Operations Managers    11-0000   \n",
       "2  11-1031                          Legislators    11-0000   \n",
       "3  11-2011  Advertising and Promotions Managers    11-0000   \n",
       "4  11-2021                   Marketing Managers    11-0000   \n",
       "\n",
       "              major_title minor_code  \\\n",
       "0  Management Occupations    11-1000   \n",
       "1  Management Occupations    11-1000   \n",
       "2  Management Occupations    11-1000   \n",
       "3  Management Occupations    11-2000   \n",
       "4  Management Occupations    11-2000   \n",
       "\n",
       "                                         minor_title broad_code  \\\n",
       "0                                     Top Executives    11-1010   \n",
       "1                                     Top Executives    11-1020   \n",
       "2                                     Top Executives    11-1030   \n",
       "3  Advertising, Marketing, Promotions, Public Rel...    11-2010   \n",
       "4  Advertising, Marketing, Promotions, Public Rel...    11-2020   \n",
       "\n",
       "                           broad_title normalized_SOC_Code  \\\n",
       "0                     Chief Executives              111011   \n",
       "1      General and Operations Managers              111021   \n",
       "2                          Legislators              111031   \n",
       "3  Advertising and Promotions Managers              112011   \n",
       "4         Marketing and Sales Managers              112021   \n",
       "\n",
       "  normalized_major_code normalized_minor_code normalized_broad_code  \n",
       "0                    11                   111                  1110  \n",
       "1                    11                   111                  1110  \n",
       "2                    11                   111                  1110  \n",
       "3                    11                   112                  1120  \n",
       "4                    11                   112                  1120  "
      ]
     },
     "execution_count": 24,
     "metadata": {},
     "output_type": "execute_result"
    }
   ],
   "source": [
    "df.head()"
   ]
  },
  {
   "cell_type": "code",
   "execution_count": 25,
   "metadata": {},
   "outputs": [],
   "source": [
    "df.to_csv('../data/soc_mapping.csv', index=False)"
   ]
  },
  {
   "cell_type": "code",
   "execution_count": null,
   "metadata": {},
   "outputs": [],
   "source": []
  }
 ],
 "metadata": {
  "kernelspec": {
   "display_name": "iceberg",
   "language": "python",
   "name": "python3"
  },
  "language_info": {
   "codemirror_mode": {
    "name": "ipython",
    "version": 3
   },
   "file_extension": ".py",
   "mimetype": "text/x-python",
   "name": "python",
   "nbconvert_exporter": "python",
   "pygments_lexer": "ipython3",
   "version": "3.10.16"
  }
 },
 "nbformat": 4,
 "nbformat_minor": 2
}
