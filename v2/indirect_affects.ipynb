{
 "cells": [
  {
   "cell_type": "markdown",
   "metadata": {},
   "source": [
    "# About\n",
    "\n",
    "WIP\n",
    "\n",
    "The objective of this notebook is to assign the job as a label:\n",
    "1. Producer - that produces money in a local economy from an outside economy or government - example SWE, Analysts, Firemen\n",
    "2. Consumer - the jobs or individuals who rely on local economy to earn, example - baristas, sales executives"
   ]
  },
  {
   "cell_type": "code",
   "execution_count": null,
   "metadata": {
    "vscode": {
     "languageId": "plaintext"
    }
   },
   "outputs": [],
   "source": [
    "logic_prompt = \"\"\"\n",
    "Brief explanation (< 200 tokens) of why the job is a producer or servicer in the context of local region economy. Think of the fact that producer based job \n",
    "\"\"\"\n",
    "class JobType(str, Enum):\n",
    "    Producer = \"producer\"\n",
    "    Servicer = \"consumer\"\n",
    "\n",
    "class JobTypeOutput(BaseModel):\n",
    "    explanation: str = Field(description=\"\")\n",
    "    producer_score: float = Field(description=\"score between 0 and 100 for how producer-like the job is\")\n",
    "    servicer_score: float = Field(description=\"score between 0 and 100 for how servicer-like the job is\")\n",
    "    job_type: JobType = Field(\n",
    "        description=\"\"\"is this job a producer or servicer?\"\"\"\n",
    "    )\n",
    "\n",
    "\n",
    "def get_automation_risk(job_title, skill_importance_ratings) -> AutomationRiskOutput:\n",
    "    if type(skill_importance_ratings) == dict:\n",
    "        skill_importance_ratings = str(skill_importance_ratings)\n",
    "    \n",
    "    query = f\"\"\"\n",
    "    Job title: {job_title}\n",
    "    Skill-importance ratings: {skill_importance_ratings}\n",
    "    \"\"\"\n",
    "    return client.chat.completions.create(\n",
    "        messages=[\n",
    "            {\n",
    "                \"role\": \"system\",\n",
    "                \"content\": system_prompt,\n",
    "            },\n",
    "            {\"role\": \"user\", \"content\": query},\n",
    "        ],\n",
    "        model=\"gpt-4.1\",\n",
    "        response_model=AutomationRiskOutput,\n",
    "    )\n",
    "\n",
    "def is_risked_by_automation(job_title, skill_importance_ratings) -> bool:\n",
    "    output = get_automation_risk(job_title, skill_importance_ratings)\n",
    "    return output.automation_risk == AutomationRisk.AUTOMATION_RISK"
   ]
  },
  {
   "cell_type": "code",
   "execution_count": null,
   "metadata": {
    "vscode": {
     "languageId": "plaintext"
    }
   },
   "outputs": [],
   "source": []
  }
 ],
 "metadata": {
  "language_info": {
   "name": "python"
  }
 },
 "nbformat": 4,
 "nbformat_minor": 2
}
