{
 "cells": [
  {
   "cell_type": "markdown",
   "metadata": {},
   "source": [
    "# About\n",
    "\n",
    "This notebook uses LLM to predict the risk category of the jobs when provided the skill vector (With combined skills)\n"
   ]
  },
  {
   "cell_type": "code",
   "execution_count": 1,
   "metadata": {},
   "outputs": [],
   "source": [
    "from enum import Enum\n",
    "import instructor\n",
    "import pandas as pd\n",
    "from openai import OpenAI\n",
    "from pydantic import BaseModel, Field\n"
   ]
  },
  {
   "cell_type": "code",
   "execution_count": 37,
   "metadata": {},
   "outputs": [],
   "source": [
    "SKILL_IMPORTANCE_PATH = 'data/skills/skills_importance.csv'\n",
    "SKILL_BASED_RISK_PATH = 'data/skills/skills_based_risk.csv'"
   ]
  },
  {
   "cell_type": "code",
   "execution_count": 3,
   "metadata": {},
   "outputs": [],
   "source": [
    "system_prompt = \"\"\"\n",
    "SYSTEM (role description)\n",
    "You are an expert labour economist bot trained on the World Economic Forum's *Future of Jobs Report 2025*.  \n",
    "Your task is to decide whether a given occupation is at **high risk of automation** in the next 5-10 years.\n",
    "\n",
    "JOB INPUT\n",
    "Job title and Skill-importance ratings (1=not important; 5=extremely important):\n",
    "Reading Comprehension ,\n",
    "Writing ,\n",
    "Speaking ,\n",
    "Active Listening ,\n",
    "Critical Thinking ,\n",
    "Complex Problem Solving ,\n",
    "Judgment & Decision Making ,\n",
    "Active Learning ,\n",
    "Learning Strategies ,\n",
    "Monitoring ,\n",
    "Operations Analysis ,\n",
    "Social Perceptiveness ,\n",
    "Coordination ,\n",
    "Persuasion ,\n",
    "Negotiation ,\n",
    "Instructing ,\n",
    "Service Orientation ,\n",
    "Operation and Control ,\n",
    "Operations Monitoring ,\n",
    "Quality Control Analysis ,\n",
    "Troubleshooting ,\n",
    "Equipment Selection ,\n",
    "Equipment Maintenance ,\n",
    "Installation ,\n",
    "Repairing ,\n",
    "Technology Design ,\n",
    "Programming ,\n",
    "Mathematics ,\n",
    "Science ,\n",
    "Systems Analysis ,\n",
    "Systems Evaluation ,\n",
    "Time Management ,\n",
    "Management of Financial Resources ,\n",
    "Management of Material Resources ,\n",
    "Management of Personnel Resources\n",
    "\n",
    "REFERENCE HEURISTICS  \n",
    "(derived from WEF report tables & figures)\n",
    "\n",
    "• Jobs dominated by **routine technical / operations-control / physical-maintenance** skills  \n",
    "  and scoring *low* on **social or management** skills → HIGH automation risk.  \n",
    "• Jobs with **strong social, basic-literacy or management** skill averages (≥ 3.5)  \n",
    "  and lower technical/physical reliance → LOW automation risk.  \n",
    "• Care, education, health-services and green-transition trades are flagged by WEF as *growing*;  \n",
    "  treat them as LOW risk if their social or basic skill average ≥ 3.  \n",
    "• Clerical / data-entry / simple sales support roles are flagged as *declining*;  \n",
    "  treat them as HIGH risk if their basic skill average ≤ 3 and social average ≤ 3.  \n",
    "• Otherwise classify as MEDIUM risk (but you must still output **no_automation_risk**).\n",
    "\n",
    "TASK\n",
    "1. Group the 35 skills into the six clusters:  \n",
    "   basic, cognitive, social, operations_control, physical/maintenance, technical.  \n",
    "2. Compute each cluster's average importance.  \n",
    "3. Apply the heuristics above.  \n",
    "4. Output **exactly one** of the following labels in lowercase:  \n",
    "   • automation_risk   (if high risk)  \n",
    "   • no_automation_risk (if medium or low risk)  \n",
    "5. Also return a one-sentence justification citing the dominant skill pattern (optional for the calling code).\n",
    "\n",
    "\"\"\""
   ]
  },
  {
   "cell_type": "code",
   "execution_count": 26,
   "metadata": {},
   "outputs": [],
   "source": [
    "client = instructor.from_openai(OpenAI())\n",
    "\n",
    "class AutomationRisk(str, Enum):\n",
    "    AUTOMATION_RISK = \"automation_risk\"\n",
    "    NO_AUTOMATION_RISK = \"no_automation_risk\"\n",
    "\n",
    "class AutomationRiskOutput(BaseModel):\n",
    "    explanation: str = Field(description=\"Brief explanation (< 200 tokens) of why the job has high risk of automation or low risk of automation\")\n",
    "    automation_risk: AutomationRisk = Field(\n",
    "        description=\"\"\"does this job have high risk of automation?\"\"\"\n",
    "    )\n",
    "\n",
    "\n",
    "def get_automation_risk(job_title, skill_importance_ratings) -> AutomationRiskOutput:\n",
    "    if type(skill_importance_ratings) == dict:\n",
    "        skill_importance_ratings = str(skill_importance_ratings)\n",
    "    \n",
    "    query = f\"\"\"\n",
    "    Job title: {job_title}\n",
    "    Skill-importance ratings: {skill_importance_ratings}\n",
    "    \"\"\"\n",
    "    return client.chat.completions.create(\n",
    "        messages=[\n",
    "            {\n",
    "                \"role\": \"system\",\n",
    "                \"content\": system_prompt,\n",
    "            },\n",
    "            {\"role\": \"user\", \"content\": query},\n",
    "        ],\n",
    "        model=\"gpt-4.1\",\n",
    "        response_model=AutomationRiskOutput,\n",
    "    )\n",
    "\n",
    "def is_risked_by_automation(job_title, skill_importance_ratings) -> bool:\n",
    "    output = get_automation_risk(job_title, skill_importance_ratings)\n",
    "    return output.automation_risk == AutomationRisk.AUTOMATION_RISK"
   ]
  },
  {
   "cell_type": "code",
   "execution_count": 38,
   "metadata": {},
   "outputs": [],
   "source": [
    "skills_importance_df = pd.read_csv(SKILL_IMPORTANCE_PATH)\n",
    "skills_based_risk_df = pd.read_csv(SKILL_BASED_RISK_PATH)"
   ]
  },
  {
   "cell_type": "code",
   "execution_count": 28,
   "metadata": {},
   "outputs": [],
   "source": [
    "def get_job_title_and_skill_importance(onetsoc_code) -> tuple:\n",
    "    global skills_importance_df\n",
    "    skill_vector = skills_importance_df[skills_importance_df['O*NET-SOC Code'] == onetsoc_code].iloc[0].to_dict()\n",
    "    job_title = skill_vector['Title']\n",
    "    del skill_vector['O*NET-SOC Code']\n",
    "    del skill_vector['Title']\n",
    "    del skill_vector['normalized_major_code']\n",
    "    del skill_vector['normalized_minor_code']\n",
    "    return job_title, skill_vector\n",
    "\n",
    "\n"
   ]
  },
  {
   "cell_type": "code",
   "execution_count": 34,
   "metadata": {},
   "outputs": [
    {
     "data": {
      "text/plain": [
       "True"
      ]
     },
     "execution_count": 34,
     "metadata": {},
     "output_type": "execute_result"
    }
   ],
   "source": [
    "job_title, skill_vector = get_job_title_and_skill_importance('49-9097.00')\n",
    "is_risked_by_automation(job_title, skill_vector)"
   ]
  },
  {
   "cell_type": "code",
   "execution_count": 51,
   "metadata": {},
   "outputs": [
    {
     "name": "stderr",
     "output_type": "stream",
     "text": [
      "  0%|          | 2/879 [00:07<52:24,  3.59s/it]\n"
     ]
    }
   ],
   "source": [
    "from tqdm import tqdm\n",
    "row_processed = 0\n",
    "for i, row in tqdm(skills_based_risk_df.iterrows(), total=len(skills_based_risk_df)):\n",
    "    onetsoc_code = row['O*NET-SOC Code']\n",
    "    job_title, skill_vector = get_job_title_and_skill_importance(onetsoc_code)\n",
    "    is_risked = is_risked_by_automation(job_title, skill_vector)\n",
    "    skills_based_risk_df['llm_based_automation_risk'] = is_risked\n",
    "    row_processed += 1\n",
    "    if row_processed > 2:\n",
    "        break"
   ]
  },
  {
   "cell_type": "code",
   "execution_count": null,
   "metadata": {},
   "outputs": [],
   "source": [
    "skills_based_risk_df.to_csv(SKILL_BASED_RISK_PATH, index=False)"
   ]
  }
 ],
 "metadata": {
  "kernelspec": {
   "display_name": "iceberg",
   "language": "python",
   "name": "python3"
  },
  "language_info": {
   "codemirror_mode": {
    "name": "ipython",
    "version": 3
   },
   "file_extension": ".py",
   "mimetype": "text/x-python",
   "name": "python",
   "nbconvert_exporter": "python",
   "pygments_lexer": "ipython3",
   "version": "3.10.16"
  }
 },
 "nbformat": 4,
 "nbformat_minor": 2
}
